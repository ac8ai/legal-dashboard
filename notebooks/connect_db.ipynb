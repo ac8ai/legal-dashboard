{
 "cells": [
  {
   "cell_type": "code",
   "execution_count": 1,
   "metadata": {},
   "outputs": [
    {
     "name": "stdout",
     "output_type": "stream",
     "text": [
      "Connected to mongo:27017/legal_dashboard\n",
      "Collections: []\n"
     ]
    }
   ],
   "source": [
    "import os\n",
    "import pymongo\n",
    "\n",
    "mongo_host = os.getenv('MONGO_HOST', 'localhost')\n",
    "mongo_port = os.getenv('MONGO_PORT', '27017')\n",
    "mongo_db = os.getenv('MONGO_DB', 'test')\n",
    "mongo_user = os.getenv('MONGO_USER', 'test')\n",
    "mongo_password = os.getenv('MONGO_PASSWORD', 'test')\n",
    "\n",
    "try:\n",
    "    client = pymongo.MongoClient(f'mongodb://{mongo_user}:{mongo_password}@{mongo_host}:{mongo_port}/{mongo_db}')\n",
    "    db = client[mongo_db]\n",
    "    print(f'Connected to {mongo_host}:{mongo_port}/{mongo_db}')\n",
    "    print(f'Collections: {db.list_collection_names()}')\n",
    "except Exception as e:\n",
    "    print(f'Error: {e}')"
   ]
  }
 ],
 "metadata": {
  "kernelspec": {
   "display_name": ".venv",
   "language": "python",
   "name": "python3"
  },
  "language_info": {
   "codemirror_mode": {
    "name": "ipython",
    "version": 3
   },
   "file_extension": ".py",
   "mimetype": "text/x-python",
   "name": "python",
   "nbconvert_exporter": "python",
   "pygments_lexer": "ipython3",
   "version": "3.12.8"
  }
 },
 "nbformat": 4,
 "nbformat_minor": 2
}
